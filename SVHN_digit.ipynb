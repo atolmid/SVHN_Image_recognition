{
 "cells": [
  {
   "cell_type": "markdown",
   "metadata": {},
   "source": [
    "**Convolutional Neural Network, in order to recognize individual digits from the SVHN dataset\n",
    "This version of the code comes from feedback provided during the Udacity ML Nanodegree Capstone\n",
    "Minor adjustments were performed**"
   ]
  },
  {
   "cell_type": "code",
   "execution_count": 17,
   "metadata": {
    "collapsed": false,
    "deletable": true,
    "editable": true
   },
   "outputs": [],
   "source": [
    "import numpy as np \n",
    "import tensorflow as tf \n",
    "import matplotlib.pyplot as plt \n",
    "\n",
    "from scipy.io import loadmat\n",
    "from sklearn.utils import shuffle\n",
    "from datetime import datetime"
   ]
  },
  {
   "cell_type": "code",
   "execution_count": 18,
   "metadata": {
    "collapsed": true,
    "deletable": true,
    "editable": true
   },
   "outputs": [],
   "source": [
    "\n",
    "def y2ind(y):\n",
    "    N = len(y)\n",
    "    K = len(set(y))\n",
    "    ind = np.zeros((N, K))\n",
    "    for i in range(N):\n",
    "        ind[i, y[i]] = 1\n",
    "    return ind\n",
    "\n"
   ]
  },
  {
   "cell_type": "code",
   "execution_count": 19,
   "metadata": {
    "collapsed": true,
    "deletable": true,
    "editable": true
   },
   "outputs": [],
   "source": [
    "def error_rate(y_true, y_pred):\n",
    "    return np.mean(y_true != y_pred)\n",
    "\n",
    "def accuracy(y_true, y_pred):\n",
    "    return np.mean(y_true == y_pred)\n"
   ]
  },
  {
   "cell_type": "code",
   "execution_count": 20,
   "metadata": {
    "collapsed": true,
    "deletable": true,
    "editable": true
   },
   "outputs": [],
   "source": [
    "def init_weight(shape, poolsize):\n",
    "    w = np.random.randn(*shape) / np.sqrt(np.prod(shape[:-1]) + shape[-1] * np.prod(shape[:-2] / np.prod(poolsize)))\n",
    "    return w.astype(np.float32)\n",
    "\n",
    "def conv2d(X, W, b):\n",
    "    conv_out = tf.nn.conv2d(X, W, strides = [1, 1, 1, 1], padding = 'SAME')\n",
    "    conv_out = tf.nn.bias_add(conv_out, b)\n",
    "    max_out = tf.nn.max_pool(conv_out, ksize = [1, 2, 2, 1], strides = [1, 2, 2, 1], padding = 'SAME')\n",
    "    return tf.nn.relu(max_out)\n",
    "\n",
    "\n",
    "def rearrange(X):\n",
    "    N = X.shape[-1]\n",
    "    out = np.zeros((N, 32, 32, 3), dtype = np.float32)\n",
    "    for i in range(N):\n",
    "        for j in range(3):\n",
    "            out[i, :, :, j] = X[:, :, j, i]\n",
    "    return out / 255\n",
    "\n",
    "\n"
   ]
  },
  {
   "cell_type": "code",
   "execution_count": 21,
   "metadata": {
    "collapsed": false,
    "deletable": true,
    "editable": true
   },
   "outputs": [
    {
     "name": "stdout",
     "output_type": "stream",
     "text": [
      "73257\n"
     ]
    }
   ],
   "source": [
    "\n",
    "# Cropped Digits from http://ufldl.stanford.edu/housenumbers/\n",
    "train = loadmat('./train_32x32.mat') # N = 73257\n",
    "test  = loadmat('./test_32x32.mat') # N = 26032\n",
    "X_train = rearrange(train['X'])\n",
    "y_train = train['y'].flatten() - 1\n",
    "print(len(y_train))\n",
    "del train\n",
    "X_train, y_train = shuffle(X_train, y_train)\n",
    "y_train_one_hot = y2ind(y_train)\n",
    "\n",
    "X_test  = rearrange(test['X'])\n",
    "y_test  = test['y'].flatten() - 1\n",
    "del test\n",
    "y_test_one_hot = y2ind(y_test)\n",
    "\n",
    "N = X_train.shape[0]\n",
    "batch_size = 500\n",
    "num_batches = N // batch_size\n",
    "M = 500\n",
    "K = 10\n",
    "\n",
    "X_train = X_train[:73000,]\n",
    "y_train = y_train[:73000]\n",
    "y_train_one_hot = y_train_one_hot[:73000,]\n",
    "X_test = X_test[:26000,]\n",
    "y_test = y_test[:26000]\n",
    "y_test_one_hot = y_test_one_hot[:26000,]\n",
    "\n",
    "poolsize = (2, 2)\n",
    "W1_shape = (5, 5, 3, 20)\n",
    "W1_init = init_weight(W1_shape, poolsize)\n",
    "b1_bias = np.zeros(W1_shape[-1]).astype(np.float32)\n",
    "W2_shape = (5, 5, 20, 50)\n",
    "W2_init = init_weight(W2_shape, poolsize)\n",
    "b2_bias = np.zeros(W2_shape[-1]).astype(np.float32)\n",
    "W3_init = np.random.randn(W2_shape[-1] * 8 * 8, M) / np.sqrt(W2_shape[-1] * 8 * 8 + M)\n",
    "b3_bias = np.zeros(M, dtype = np.float32)\n",
    "W4_init = np.random.randn(M, K) / np.sqrt(M + K)\n",
    "b4_bias = np.zeros(K, dtype = np.float32)\n",
    "\n",
    "X = tf.placeholder(tf.float32, shape = [batch_size, 32, 32, 3])\n",
    "y = tf.placeholder(tf.float32, shape = [batch_size, K])\n",
    "\n",
    "\n",
    "with tf.name_scope(\"Model\"):\n",
    "    W1 = tf.Variable(W1_init.astype(np.float32), name='Weight1')\n",
    "    b1 = tf.Variable(b1_bias.astype(np.float32), name='Bias1')\n",
    "    W2 = tf.Variable(W2_init.astype(np.float32), name='Weight2')\n",
    "    b2 = tf.Variable(b2_bias.astype(np.float32), name='Bias2')\n",
    "    W3 = tf.Variable(W3_init.astype(np.float32), name='Weight3')\n",
    "    b3 = tf.Variable(b3_bias.astype(np.float32), name='Bias3')\n",
    "    W4 = tf.Variable(W4_init.astype(np.float32), name='Weight4')\n",
    "    b4 = tf.Variable(b4_bias.astype(np.float32), name='Bias4')\n",
    "\n",
    "\n",
    "    Z1 = conv2d(X, W1, b1)\n",
    "    Z2 = conv2d(Z1, W2, b2)\n",
    "    Z2_shape = Z2.get_shape().as_list()\n",
    "    Z2rs = tf.reshape(Z2, [Z2_shape[0], np.prod(Z2_shape[1:])])\n",
    "    Z3 = tf.nn.relu(tf.matmul(Z2rs, W3) + b3)\n",
    "    pred = tf.matmul(Z3, W4) + b4\n",
    "\n",
    "with tf.name_scope('Loss'):\n",
    "        # Minimize error using cross entropy\n",
    "        cost = tf.reduce_sum(tf.nn.softmax_cross_entropy_with_logits(pred, y))\n",
    "        # Loss function with L2 Regularization with beta=0.01\n",
    "        #regularizers = tf.nn.l2_loss(conv1_w) + tf.nn.l2_loss(conv2_w) + tf.nn.l2_loss(conv3_w) + tf.nn.l2_loss(fc1_w) + tf.nn.l2_loss(fc2_w)\n",
    "        #cost = tf.reduce_mean(cost + beta * regularizers)\n",
    "        tf.summary.scalar('Loss', cost)\n",
    "#cost = tf.reduce_sum(tf.nn.softmax_cross_entropy_with_logits(pred, y))\n",
    "#optimizer = tf.train.RMSPropOptimizer(0.0001, decay=0.99, momentum=0.9).minimize(cost)\n",
    "optimizer = tf.train.AdamOptimizer(0.0001).minimize(cost)\n",
    "pred_opt = tf.argmax(pred, 1)\n",
    "\n",
    "LL = []\n",
    "max_iter = 6\n",
    "init = tf.global_variables_initializer()\n",
    "\n",
    " "
   ]
  },
  {
   "cell_type": "code",
   "execution_count": 22,
   "metadata": {
    "collapsed": false,
    "deletable": true,
    "editable": true
   },
   "outputs": [
    {
     "data": {
      "image/png": "[encoded data removed]",
      "text/plain": [
       "<matplotlib.figure.Figure at 0x1198125c0>"
      ]
     },
     "metadata": {},
     "output_type": "display_data"
    }
   ],
   "source": [
    "\"\"\"\n",
    "Plotting Class Labels against their respective frequencies in a Bar Graph\n",
    "\"\"\"\n",
    "from collections import Counter\n",
    "\n",
    "%matplotlib inline\n",
    "\n",
    "temp_labels = y_train.reshape(len(y_train)).tolist()\n",
    "temp_labels = dict(Counter(temp_labels))\n",
    "plt.bar(range(len(temp_labels)), temp_labels.values(), align='center', label='Training Labels')\n",
    "plt.xticks(range(len(temp_labels)), temp_labels.keys())\n",
    "temp_labels = y_test.reshape(len(y_test)).tolist()\n",
    "temp_labels = dict(Counter(temp_labels))\n",
    "plt.bar(range(len(temp_labels)), temp_labels.values(), align='center', color='red', label='Testing Labels')\n",
    "plt.legend()\n",
    "plt.xlabel('Class Labels')\n",
    "plt.ylabel('Frequency')\n",
    "plt.title('Frequency Distribution of Class Labels')\n",
    "plt.ion()\n",
    "#============================================================================\n"
   ]
  },
  {
   "cell_type": "code",
   "execution_count": 23,
   "metadata": {
    "collapsed": false,
    "deletable": true,
    "editable": true,
    "scrolled": true
   },
   "outputs": [
    {
     "name": "stdout",
     "output_type": "stream",
     "text": [
      "Cost / err / accuracy at iteration i=0, j=0: 58635.899 / 0.804 / 0.196\n",
      "Cost / err / accuracy at iteration i=0, j=20: 57854.735 / 0.804 / 0.196\n",
      "Cost / err / accuracy at iteration i=0, j=40: 56993.334 / 0.773 / 0.227\n",
      "Cost / err / accuracy at iteration i=0, j=60: 55901.754 / 0.697 / 0.303\n",
      "Cost / err / accuracy at iteration i=0, j=80: 53884.995 / 0.648 / 0.352\n",
      "Cost / err / accuracy at iteration i=0, j=100: 51084.211 / 0.653 / 0.347\n",
      "Cost / err / accuracy at iteration i=0, j=120: 47694.212 / 0.611 / 0.389\n",
      "Cost / err / accuracy at iteration i=0, j=140: 44155.569 / 0.496 / 0.504\n",
      "Cost / err / accuracy at iteration i=1, j=0: 42992.934 / 0.473 / 0.527\n",
      "Cost / err / accuracy at iteration i=1, j=20: 39567.314 / 0.444 / 0.556\n",
      "Cost / err / accuracy at iteration i=1, j=40: 36742.096 / 0.388 / 0.613\n",
      "Cost / err / accuracy at iteration i=1, j=60: 33642.077 / 0.347 / 0.653\n",
      "Cost / err / accuracy at iteration i=1, j=80: 31275.790 / 0.322 / 0.678\n",
      "Cost / err / accuracy at iteration i=1, j=100: 29217.787 / 0.308 / 0.692\n",
      "Cost / err / accuracy at iteration i=1, j=120: 27043.097 / 0.264 / 0.736\n",
      "Cost / err / accuracy at iteration i=1, j=140: 25605.832 / 0.258 / 0.743\n",
      "Cost / err / accuracy at iteration i=2, j=0: 25061.534 / 0.239 / 0.761\n",
      "Cost / err / accuracy at iteration i=2, j=20: 23737.479 / 0.235 / 0.765\n",
      "Cost / err / accuracy at iteration i=2, j=40: 22878.953 / 0.220 / 0.780\n",
      "Cost / err / accuracy at iteration i=2, j=60: 22105.071 / 0.222 / 0.778\n",
      "Cost / err / accuracy at iteration i=2, j=80: 21126.930 / 0.210 / 0.790\n",
      "Cost / err / accuracy at iteration i=2, j=100: 20839.416 / 0.215 / 0.785\n",
      "Cost / err / accuracy at iteration i=2, j=120: 19862.030 / 0.198 / 0.802\n",
      "Cost / err / accuracy at iteration i=2, j=140: 19364.500 / 0.193 / 0.807\n",
      "Cost / err / accuracy at iteration i=3, j=0: 19376.347 / 0.190 / 0.810\n",
      "Cost / err / accuracy at iteration i=3, j=20: 18674.871 / 0.187 / 0.813\n",
      "Cost / err / accuracy at iteration i=3, j=40: 18750.843 / 0.186 / 0.814\n",
      "Cost / err / accuracy at iteration i=3, j=60: 18301.212 / 0.187 / 0.813\n",
      "Cost / err / accuracy at iteration i=3, j=80: 17860.058 / 0.181 / 0.819\n",
      "Cost / err / accuracy at iteration i=3, j=100: 17842.115 / 0.186 / 0.814\n",
      "Cost / err / accuracy at iteration i=3, j=120: 17305.667 / 0.176 / 0.824\n",
      "Cost / err / accuracy at iteration i=3, j=140: 17097.149 / 0.173 / 0.827\n",
      "Cost / err / accuracy at iteration i=4, j=0: 16982.121 / 0.170 / 0.830\n",
      "Cost / err / accuracy at iteration i=4, j=20: 16734.899 / 0.169 / 0.831\n",
      "Cost / err / accuracy at iteration i=4, j=40: 16717.957 / 0.167 / 0.833\n",
      "Cost / err / accuracy at iteration i=4, j=60: 16685.658 / 0.173 / 0.827\n",
      "Cost / err / accuracy at iteration i=4, j=80: 16413.558 / 0.168 / 0.832\n",
      "Cost / err / accuracy at iteration i=4, j=100: 16525.190 / 0.174 / 0.826\n",
      "Cost / err / accuracy at iteration i=4, j=120: 16155.381 / 0.166 / 0.834\n",
      "Cost / err / accuracy at iteration i=4, j=140: 15948.219 / 0.162 / 0.838\n",
      "Cost / err / accuracy at iteration i=5, j=0: 15839.157 / 0.159 / 0.841\n",
      "Cost / err / accuracy at iteration i=5, j=20: 15719.997 / 0.158 / 0.842\n",
      "Cost / err / accuracy at iteration i=5, j=40: 15638.318 / 0.159 / 0.841\n",
      "Cost / err / accuracy at iteration i=5, j=60: 15762.415 / 0.163 / 0.838\n",
      "Cost / err / accuracy at iteration i=5, j=80: 15451.472 / 0.158 / 0.842\n",
      "Cost / err / accuracy at iteration i=5, j=100: 15702.911 / 0.163 / 0.837\n",
      "Cost / err / accuracy at iteration i=5, j=120: 15437.410 / 0.159 / 0.841\n",
      "Cost / err / accuracy at iteration i=5, j=140: 15281.667 / 0.156 / 0.844\n"
     ]
    }
   ],
   "source": [
    "   with tf.Session() as sess:\n",
    "        sess.run(init)\n",
    "        writer = tf.summary.FileWriter(('./logs1_dir'), graph=tf.get_default_graph())\n",
    "        for epoch in range(max_iter):\n",
    "            for i in range(num_batches):\n",
    "                batch_x = X_train[i * batch_size : (i * batch_size + batch_size), ]\n",
    "                batch_y = y_train_one_hot[i * batch_size : (i * batch_size + batch_size), ]\n",
    "\n",
    "                if len(batch_x) == batch_size:\n",
    "                    sess.run(optimizer, feed_dict = {X: batch_x, y: batch_y})\n",
    "\n",
    "                    if i % 20 == 0:\n",
    "                        test_cost = 0\n",
    "                        predictions = np.zeros(len(X_test))\n",
    "                        for k in range(len(X_test) // batch_size):\n",
    "                            batch_x_test = X_test[k * batch_size : (k * batch_size + batch_size), ]\n",
    "                            batch_y_test = y_test_one_hot[k * batch_size : (k * batch_size + batch_size), ]\n",
    "                            test_cost += sess.run(cost, feed_dict = {X: batch_x_test, y: batch_y_test})\n",
    "\n",
    "                            predictions[k * batch_size : (k * batch_size + batch_size)] = sess.run(pred_opt, feed_dict = {X: batch_x_test})\n",
    "                        error = error_rate(predictions, y_test)\n",
    "                        acc = accuracy(predictions, y_test)\n",
    "                        print(\"Cost / err / accuracy at iteration i=%d, j=%d: %.3f / %.3f / %.3f\" % (epoch, i, test_cost, error, acc))\n",
    "                        LL.append(test_cost)\n",
    "        writer.flush()\n"
   ]
  },
  {
   "cell_type": "code",
   "execution_count": null,
   "metadata": {
    "collapsed": true,
    "deletable": true,
    "editable": true
   },
   "outputs": [],
   "source": []
  }
 ],
 "metadata": {
  "kernelspec": {
   "display_name": "Python 3",
   "language": "python",
   "name": "python3"
  },
  "language_info": {
   "codemirror_mode": {
    "name": "ipython",
    "version": 3
   },
   "file_extension": ".py",
   "mimetype": "text/x-python",
   "name": "python",
   "nbconvert_exporter": "python",
   "pygments_lexer": "ipython3",
   "version": "3.5.2"
  },
  "widgets": {
   "state": {},
   "version": "1.1.2"
  }
 },
 "nbformat": 4,
 "nbformat_minor": 2
}
